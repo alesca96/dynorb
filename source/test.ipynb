{
 "cells": [
  {
   "cell_type": "code",
   "execution_count": 1,
   "metadata": {},
   "outputs": [],
   "source": [
    "import numpy as np"
   ]
  },
  {
   "cell_type": "code",
   "execution_count": 10,
   "metadata": {},
   "outputs": [
    {
     "name": "stdout",
     "output_type": "stream",
     "text": [
      "Matrix:\n",
      "[[1.5 2.9 3.3]\n",
      " [4.7 5.6 6.2]]\n",
      "\n",
      "Vector:\n",
      "[ 1.5 -6.6  1.1]\n",
      "\n",
      "Result of multiplication:\n",
      "[-13.26 -23.09]\n"
     ]
    }
   ],
   "source": [
    "# Define a matrix (2x3)\n",
    "matrix = np.array([[1.5, 2.9, 3.3], [4.7, 5.6, 6.2]])\n",
    "\n",
    "# Define a vector (3,)\n",
    "vector = np.array([1.5, -6.6, 1.1])\n",
    "\n",
    "# Perform matrix-vector multiplication\n",
    "result = np.dot(matrix, vector)\n",
    "\n",
    "print(\"Matrix:\")\n",
    "print(matrix)\n",
    "print(\"\\nVector:\")\n",
    "print(vector)\n",
    "print(\"\\nResult of multiplication:\")\n",
    "print(result)"
   ]
  },
  {
   "cell_type": "code",
   "execution_count": null,
   "metadata": {},
   "outputs": [],
   "source": []
  }
 ],
 "metadata": {
  "kernelspec": {
   "display_name": "Python 3",
   "language": "python",
   "name": "python3"
  },
  "language_info": {
   "codemirror_mode": {
    "name": "ipython",
    "version": 3
   },
   "file_extension": ".py",
   "mimetype": "text/x-python",
   "name": "python",
   "nbconvert_exporter": "python",
   "pygments_lexer": "ipython3",
   "version": "3.12.3"
  }
 },
 "nbformat": 4,
 "nbformat_minor": 2
}
