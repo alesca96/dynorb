{
 "cells": [
  {
   "cell_type": "code",
   "execution_count": 2,
   "metadata": {},
   "outputs": [],
   "source": [
    "import numpy as np"
   ]
  },
  {
   "cell_type": "code",
   "execution_count": 8,
   "metadata": {},
   "outputs": [
    {
     "name": "stdout",
     "output_type": "stream",
     "text": [
      "Matrix:\n",
      "[[1.5 2.9 3.3]\n",
      " [4.7 5.6 6.2]]\n",
      "Matrix - array form:\n",
      "[1.5 4.7 2.9 5.6 3.3 6.2]\n",
      "\n",
      "Vector:\n",
      "[ 1.5 -6.6  1.1]\n",
      "\n",
      "Result of multiplication:\n",
      "[-13.26 -23.09]\n",
      "\n",
      "Transposed Matrix:\n",
      "[[1.5 4.7]\n",
      " [2.9 5.6]\n",
      " [3.3 6.2]]\n",
      "Matrix - array form:\n",
      "[1.5 2.9 3.3 4.7 5.6 6.2]\n",
      "\n",
      "Vector:\n",
      "[2.3 6.7]\n",
      "\n",
      "Result of multiplication:\n",
      "[34.94 44.19 49.13]\n"
     ]
    }
   ],
   "source": [
    "# Define a matrix (2x3)\n",
    "A = np.array(\n",
    "    [\n",
    "        [1.5, 2.9, 3.3],\n",
    "        [4.7, 5.6, 6.2],\n",
    "    ]\n",
    ")\n",
    "# Define a matrix (3x2)\n",
    "A_T = A.transpose()\n",
    "\n",
    "# Define a vector (3,)\n",
    "xx1 = np.array([1.5, -6.6, 1.1])\n",
    "xx2 = np.array([2.3, 6.7])\n",
    "\n",
    "# Perform matrix-vector multiplication\n",
    "yy1 = np.dot(A, xx1)\n",
    "yy2 = np.dot(A_T, xx2)\n",
    "\n",
    "\n",
    "print(\"Matrix:\")\n",
    "print(A)\n",
    "print(\"Matrix - array form:\")\n",
    "print(A.ravel(order=\"F\"))\n",
    "print(\"\\nVector:\")\n",
    "print(xx1)\n",
    "print(\"\\nResult of multiplication:\")\n",
    "print(yy1)\n",
    "\n",
    "print()\n",
    "\n",
    "print(\"Transposed Matrix:\")\n",
    "print(A_T)\n",
    "print(\"Matrix - array form:\")\n",
    "print(A_T.ravel(order=\"F\"))\n",
    "print(\"\\nVector:\")\n",
    "print(xx2)\n",
    "print(\"\\nResult of multiplication:\")\n",
    "print(yy2)"
   ]
  },
  {
   "cell_type": "code",
   "execution_count": 9,
   "metadata": {},
   "outputs": [
    {
     "name": "stdout",
     "output_type": "stream",
     "text": [
      "Transposed Matrix with scaled vector and matrix:\n",
      "[[1.5 4.7]\n",
      " [2.9 5.6]\n",
      " [3.3 6.2]]\n",
      "Matrix - array form:\n",
      "[1.5 2.9 3.3 4.7 5.6 6.2]\n",
      "\n",
      "Vector:\n",
      "[ 6.9 20.1]\n",
      "\n",
      "Result of multiplication:\n",
      "[104.82 132.57 147.39]\n"
     ]
    }
   ],
   "source": [
    "# Define a vector (3,)\n",
    "xx2 = 3.0 * np.array([2.3, 6.7])\n",
    "\n",
    "# Perform matrix-vector multiplication\n",
    "yy2 = np.dot(A_T, xx2)\n",
    "\n",
    "\n",
    "print(\"Transposed Matrix with scaled vector and matrix:\")\n",
    "print(A_T)\n",
    "print(\"Matrix - array form:\")\n",
    "print(A_T.ravel(order=\"F\"))\n",
    "print(\"\\nVector:\")\n",
    "print(xx2)\n",
    "print(\"\\nResult of multiplication:\")\n",
    "print(yy2)"
   ]
  },
  {
   "cell_type": "code",
   "execution_count": null,
   "metadata": {},
   "outputs": [],
   "source": []
  }
 ],
 "metadata": {
  "kernelspec": {
   "display_name": "Python 3",
   "language": "python",
   "name": "python3"
  },
  "language_info": {
   "codemirror_mode": {
    "name": "ipython",
    "version": 3
   },
   "file_extension": ".py",
   "mimetype": "text/x-python",
   "name": "python",
   "nbconvert_exporter": "python",
   "pygments_lexer": "ipython3",
   "version": "3.12.3"
  }
 },
 "nbformat": 4,
 "nbformat_minor": 2
}
